{
 "cells": [
  {
   "cell_type": "code",
   "execution_count": 168,
   "id": "201b4a77-06cb-46d5-9f69-305104f717bf",
   "metadata": {},
   "outputs": [],
   "source": [
    "import numpy as np\n",
    "import pandas as pd\n",
    "import matplotlib.pyplot as plt \n",
    "from sklearn.linear_model import LinearRegression\n",
    "from sklearn.model_selection import train_test_split\n",
    "from sklearn.preprocessing import StandardScaler,LabelEncoder,PolynomialFeatures\n",
    "from sklearn.metrics import mean_squared_error,r2_score\n",
    "import seaborn as sns\n",
    "from xgboost import XGBRegressor\n",
    "from sklearn.ensemble import RandomForestRegressor"
   ]
  },
  {
   "cell_type": "code",
   "execution_count": 169,
   "id": "73449a46-8960-45eb-8878-a7035f822ccd",
   "metadata": {},
   "outputs": [],
   "source": [
    "df=pd.read_csv('exercise.csv').drop('User_ID',axis=1)\n",
    "y_train=pd.read_csv('calories.csv').drop('User_ID',axis=1)"
   ]
  },
  {
   "cell_type": "code",
   "execution_count": 170,
   "id": "4317d59b-e3a4-457e-83a0-157cff30e554",
   "metadata": {},
   "outputs": [
    {
     "name": "stdout",
     "output_type": "stream",
     "text": [
      "<class 'pandas.core.frame.DataFrame'>\n",
      "RangeIndex: 15000 entries, 0 to 14999\n",
      "Data columns (total 7 columns):\n",
      " #   Column      Non-Null Count  Dtype  \n",
      "---  ------      --------------  -----  \n",
      " 0   Gender      15000 non-null  object \n",
      " 1   Age         15000 non-null  int64  \n",
      " 2   Height      15000 non-null  float64\n",
      " 3   Weight      15000 non-null  float64\n",
      " 4   Duration    15000 non-null  float64\n",
      " 5   Heart_Rate  15000 non-null  float64\n",
      " 6   Body_Temp   15000 non-null  float64\n",
      "dtypes: float64(5), int64(1), object(1)\n",
      "memory usage: 820.4+ KB\n"
     ]
    }
   ],
   "source": [
    "df.info()"
   ]
  },
  {
   "cell_type": "code",
   "execution_count": 171,
   "id": "b48a6200-70e2-438a-9577-477a7e898253",
   "metadata": {},
   "outputs": [
    {
     "data": {
      "text/html": [
       "<div>\n",
       "<style scoped>\n",
       "    .dataframe tbody tr th:only-of-type {\n",
       "        vertical-align: middle;\n",
       "    }\n",
       "\n",
       "    .dataframe tbody tr th {\n",
       "        vertical-align: top;\n",
       "    }\n",
       "\n",
       "    .dataframe thead th {\n",
       "        text-align: right;\n",
       "    }\n",
       "</style>\n",
       "<table border=\"1\" class=\"dataframe\">\n",
       "  <thead>\n",
       "    <tr style=\"text-align: right;\">\n",
       "      <th></th>\n",
       "      <th>Age</th>\n",
       "      <th>Height</th>\n",
       "      <th>Weight</th>\n",
       "      <th>Duration</th>\n",
       "      <th>Heart_Rate</th>\n",
       "      <th>Body_Temp</th>\n",
       "    </tr>\n",
       "  </thead>\n",
       "  <tbody>\n",
       "    <tr>\n",
       "      <th>count</th>\n",
       "      <td>15000.000000</td>\n",
       "      <td>15000.000000</td>\n",
       "      <td>15000.000000</td>\n",
       "      <td>15000.000000</td>\n",
       "      <td>15000.000000</td>\n",
       "      <td>15000.000000</td>\n",
       "    </tr>\n",
       "    <tr>\n",
       "      <th>mean</th>\n",
       "      <td>42.789800</td>\n",
       "      <td>174.465133</td>\n",
       "      <td>74.966867</td>\n",
       "      <td>15.530600</td>\n",
       "      <td>95.518533</td>\n",
       "      <td>40.025453</td>\n",
       "    </tr>\n",
       "    <tr>\n",
       "      <th>std</th>\n",
       "      <td>16.980264</td>\n",
       "      <td>14.258114</td>\n",
       "      <td>15.035657</td>\n",
       "      <td>8.319203</td>\n",
       "      <td>9.583328</td>\n",
       "      <td>0.779230</td>\n",
       "    </tr>\n",
       "    <tr>\n",
       "      <th>min</th>\n",
       "      <td>20.000000</td>\n",
       "      <td>123.000000</td>\n",
       "      <td>36.000000</td>\n",
       "      <td>1.000000</td>\n",
       "      <td>67.000000</td>\n",
       "      <td>37.100000</td>\n",
       "    </tr>\n",
       "    <tr>\n",
       "      <th>25%</th>\n",
       "      <td>28.000000</td>\n",
       "      <td>164.000000</td>\n",
       "      <td>63.000000</td>\n",
       "      <td>8.000000</td>\n",
       "      <td>88.000000</td>\n",
       "      <td>39.600000</td>\n",
       "    </tr>\n",
       "    <tr>\n",
       "      <th>50%</th>\n",
       "      <td>39.000000</td>\n",
       "      <td>175.000000</td>\n",
       "      <td>74.000000</td>\n",
       "      <td>16.000000</td>\n",
       "      <td>96.000000</td>\n",
       "      <td>40.200000</td>\n",
       "    </tr>\n",
       "    <tr>\n",
       "      <th>75%</th>\n",
       "      <td>56.000000</td>\n",
       "      <td>185.000000</td>\n",
       "      <td>87.000000</td>\n",
       "      <td>23.000000</td>\n",
       "      <td>103.000000</td>\n",
       "      <td>40.600000</td>\n",
       "    </tr>\n",
       "    <tr>\n",
       "      <th>max</th>\n",
       "      <td>79.000000</td>\n",
       "      <td>222.000000</td>\n",
       "      <td>132.000000</td>\n",
       "      <td>30.000000</td>\n",
       "      <td>128.000000</td>\n",
       "      <td>41.500000</td>\n",
       "    </tr>\n",
       "  </tbody>\n",
       "</table>\n",
       "</div>"
      ],
      "text/plain": [
       "                Age        Height        Weight      Duration    Heart_Rate  \\\n",
       "count  15000.000000  15000.000000  15000.000000  15000.000000  15000.000000   \n",
       "mean      42.789800    174.465133     74.966867     15.530600     95.518533   \n",
       "std       16.980264     14.258114     15.035657      8.319203      9.583328   \n",
       "min       20.000000    123.000000     36.000000      1.000000     67.000000   \n",
       "25%       28.000000    164.000000     63.000000      8.000000     88.000000   \n",
       "50%       39.000000    175.000000     74.000000     16.000000     96.000000   \n",
       "75%       56.000000    185.000000     87.000000     23.000000    103.000000   \n",
       "max       79.000000    222.000000    132.000000     30.000000    128.000000   \n",
       "\n",
       "          Body_Temp  \n",
       "count  15000.000000  \n",
       "mean      40.025453  \n",
       "std        0.779230  \n",
       "min       37.100000  \n",
       "25%       39.600000  \n",
       "50%       40.200000  \n",
       "75%       40.600000  \n",
       "max       41.500000  "
      ]
     },
     "execution_count": 171,
     "metadata": {},
     "output_type": "execute_result"
    }
   ],
   "source": [
    "df.describe()"
   ]
  },
  {
   "cell_type": "code",
   "execution_count": 172,
   "id": "7f0c87fd-1bce-48aa-aaf5-9144e4c6b9c5",
   "metadata": {},
   "outputs": [
    {
     "name": "stderr",
     "output_type": "stream",
     "text": [
      "C:\\Users\\pc\\AppData\\Local\\Temp\\ipykernel_1712\\569694118.py:2: FutureWarning: Downcasting behavior in `replace` is deprecated and will be removed in a future version. To retain the old behavior, explicitly call `result.infer_objects(copy=False)`. To opt-in to the future behavior, set `pd.set_option('future.no_silent_downcasting', True)`\n",
      "  df.replace({\"Gender\":{\"female\":0,\"male\":1}},inplace=True)\n"
     ]
    }
   ],
   "source": [
    "df[\"Gender\"].value_counts()\n",
    "df.replace({\"Gender\":{\"female\":0,\"male\":1}},inplace=True)"
   ]
  },
  {
   "cell_type": "code",
   "execution_count": 173,
   "id": "24e1450a-5244-43b5-9a94-7d4b67e93fda",
   "metadata": {},
   "outputs": [
    {
     "data": {
      "text/plain": [
       "<Axes: >"
      ]
     },
     "execution_count": 173,
     "metadata": {},
     "output_type": "execute_result"
    },
    {
     "data": {
      "image/png": "[encoded data removed]",
      "text/plain": [
       "<Figure size 600x600 with 2 Axes>"
      ]
     },
     "metadata": {},
     "output_type": "display_data"
    }
   ],
   "source": [
    "correlation=pd.concat([df, y_train], axis=1).corr()\n",
    "# print(pd.concat([df, y_train], axis=1))\n",
    "plt.figure(figsize=(6,6))\n",
    "sns.heatmap(correlation, cbar=True, square=True, fmt='.1f',annot=True, annot_kws={'size':8}, cmap='Blues')"
   ]
  },
  {
   "cell_type": "code",
   "execution_count": 174,
   "id": "1520ef9c-9a2e-439a-98de-0bc268078a7b",
   "metadata": {},
   "outputs": [],
   "source": [
    "y_train=y_train.values\n",
    "x_train=df.values"
   ]
  },
  {
   "cell_type": "code",
   "execution_count": 175,
   "id": "b929863a-bb39-4dc2-8df3-87aacf2dc380",
   "metadata": {},
   "outputs": [],
   "source": [
    "x_norm=StandardScaler().fit_transform(x_train)\n",
    "x_norm,x_test,y_train,y_test=train_test_split(x_norm,y_train,test_size=0.2,random_state=41)"
   ]
  },
  {
   "cell_type": "code",
   "execution_count": 176,
   "id": "497c9d2e-95fd-4bfb-9b86-019b952cf378",
   "metadata": {},
   "outputs": [],
   "source": [
    "# max_dgree=9\n",
    "# err_cv=np.zeros(max_dgree)\n",
    "# err_train=np.zeros(max_dgree)\n",
    "# for i in range(max_dgree):\n",
    "#     pol=PolynomialFeatures(i+1,include_bias=False)\n",
    "#     # normlize data training\n",
    "#     x_pol=pol.fit_transform(x_norm)\n",
    "#     # normlize data cv\n",
    "#     x_p=pol.fit_transform(x_test)\n",
    "#     # train model \n",
    "#     model=LinearRegression()\n",
    "#     model.fit(x_pol,y_train)\n",
    "#     # prediction \n",
    "#     y_hat_cv=model.predict(x_p)\n",
    "#     y_hat=model.predict(x_pol)\n",
    "#     err_cv[i]=mean_squared_error(y_test,y_hat_cv)/2\n",
    "#     err_train[i]=mean_squared_error(y_train,y_hat)/2\n",
    "# optimal_degree=np.argmin(err_cv)+1\n",
    "# print(optimal_degree)\n",
    "# print(err_train)\n",
    "# print(err_cv)"
   ]
  },
  {
   "cell_type": "code",
   "execution_count": 177,
   "id": "81ce6840-18ac-41d6-8e5e-293784603f4d",
   "metadata": {},
   "outputs": [],
   "source": [
    "# pol=PolynomialFeatures(3,include_bias=False)\n",
    "# x_train=pol.fit_transform(x_norm)\n",
    "# x_test=pol.fit_transform(x_test)\n",
    "# model=LinearRegression()\n",
    "# model.fit(x_train,y_train)\n",
    "# y_pred=model.predict(x_test)\n",
    "# error_score =r2_score(y_test, y_pred)\n",
    "# mse=mean_squared_error(y_test,y_pred)\n",
    "# print(\"R squared Error : \", error_score*100)\n",
    "# print(\"MSE\",mse)\n",
    "# for i in range(20):\n",
    "#     print(y_pred[i],\"=>\",y_test[i])"
   ]
  },
  {
   "cell_type": "code",
   "execution_count": 178,
   "id": "12622f0a-c808-4f71-9c9a-c43dd2e833e5",
   "metadata": {},
   "outputs": [],
   "source": [
    "# R squared Error :  99.99786346687574\n",
    "# MSE 0.08563619125931467 level 3"
   ]
  },
  {
   "cell_type": "code",
   "execution_count": 179,
   "id": "849e2c7e-9251-4bde-9c7e-3946d75f5c80",
   "metadata": {},
   "outputs": [
    {
     "name": "stdout",
     "output_type": "stream",
     "text": [
      "XGB\n",
      "R squared Error :  99.87017301298823\n",
      "MSE 5.2037052756709885\n",
      "118.87947 => [121.]\n",
      "50.17367 => [50.]\n",
      "82.729935 => [85.]\n",
      "9.623892 => [10.]\n",
      "3.9372506 => [4.]\n",
      "34.53924 => [33.]\n",
      "137.47552 => [139.]\n",
      "115.62505 => [116.]\n",
      "56.498814 => [58.]\n",
      "154.02676 => [152.]\n",
      "141.44035 => [142.]\n",
      "142.27103 => [143.]\n",
      "52.865192 => [52.]\n",
      "149.66846 => [151.]\n",
      "138.93227 => [136.]\n",
      "22.20844 => [22.]\n",
      "166.19829 => [163.]\n",
      "167.59048 => [169.]\n",
      "5.379682 => [6.]\n",
      "110.64127 => [103.]\n"
     ]
    },
    {
     "name": "stderr",
     "output_type": "stream",
     "text": [
      "C:\\Users\\pc\\anaconda3\\Lib\\site-packages\\sklearn\\base.py:1474: DataConversionWarning: A column-vector y was passed when a 1d array was expected. Please change the shape of y to (n_samples,), for example using ravel().\n",
      "  return fit_method(estimator, *args, **kwargs)\n"
     ]
    },
    {
     "name": "stdout",
     "output_type": "stream",
     "text": [
      "random forest\n",
      "R squared Error :  99.7426768680185\n",
      "MSE 10.313986100000001\n",
      "120.23 => [121.]\n",
      "50.1 => [50.]\n",
      "81.53 => [85.]\n",
      "10.37 => [10.]\n",
      "4.15 => [4.]\n",
      "32.43 => [33.]\n",
      "139.09 => [139.]\n",
      "123.98 => [116.]\n",
      "57.89 => [58.]\n",
      "153.05 => [152.]\n",
      "141.64 => [142.]\n",
      "145.69 => [143.]\n",
      "52.01 => [52.]\n",
      "153.78 => [151.]\n",
      "137.65 => [136.]\n",
      "22.7 => [22.]\n",
      "171.18 => [163.]\n",
      "169.16 => [169.]\n",
      "5.74 => [6.]\n",
      "98.86 => [103.]\n"
     ]
    }
   ],
   "source": [
    "#XGB\n",
    "model_xgb=XGBRegressor()\n",
    "model_xgb.fit(x_norm,y_train)\n",
    "y_pred=model_xgb.predict(x_test)\n",
    "error_score=r2_score(y_test,y_pred)\n",
    "mse=mean_squared_error(y_test,y_pred)\n",
    "print(\"XGB\")\n",
    "print(\"R squared Error : \", error_score*100)\n",
    "print(\"MSE\",mse)\n",
    "for i in range(20):\n",
    "    print(y_pred[i],\"=>\",y_test[i])\n",
    "\n",
    "\n",
    "#random forest\n",
    "randomF=RandomForestRegressor()\n",
    "randomF.fit(x_norm,y_train)\n",
    "y_pred=randomF.predict(x_test)\n",
    "error_score=r2_score(y_test,y_pred)\n",
    "mse=mean_squared_error(y_test,y_pred)\n",
    "print(\"random forest\")\n",
    "print(\"R squared Error : \", error_score*100)\n",
    "print(\"MSE\",mse)\n",
    "for i in range(20):\n",
    "    print(y_pred[i],\"=>\",y_test[i])"
   ]
  }
 ],
 "metadata": {
  "kernelspec": {
   "display_name": "Python 3 (ipykernel)",
   "language": "python",
   "name": "python3"
  },
  "language_info": {
   "codemirror_mode": {
    "name": "ipython",
    "version": 3
   },
   "file_extension": ".py",
   "mimetype": "text/x-python",
   "name": "python",
   "nbconvert_exporter": "python",
   "pygments_lexer": "ipython3",
   "version": "3.12.4"
  }
 },
 "nbformat": 4,
 "nbformat_minor": 5
}
