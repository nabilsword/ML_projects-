{
 "cells": [
  {
   "cell_type": "code",
   "execution_count": 9,
   "id": "53b7299e-f3b5-413c-b9a0-cbc99ba4785f",
   "metadata": {},
   "outputs": [],
   "source": [
    "import numpy as np\n",
    "import pandas as pd\n",
    "import matplotlib.pyplot as plt\n",
    "from sklearn.linear_model import LinearRegression\n",
    "import seaborn as sns\n",
    "from sklearn.model_selection import train_test_split\n",
    "from sklearn.preprocessing import StandardScaler,PolynomialFeatures,LabelEncoder\n",
    "from sklearn.metrics import mean_squared_error,r2_score\n",
    "from xgboost import XGBRegressor\n",
    "from sklearn.ensemble import RandomForestRegressor"
   ]
  },
  {
   "cell_type": "code",
   "execution_count": 10,
   "id": "06d4d477-f0ef-4e67-b84d-b37be08e1819",
   "metadata": {},
   "outputs": [
    {
     "data": {
      "text/plain": [
       "Item_Identifier\n",
       "FDW13    10\n",
       "FDG33    10\n",
       "NCY18     9\n",
       "FDD38     9\n",
       "DRE49     9\n",
       "         ..\n",
       "FDY43     1\n",
       "FDQ60     1\n",
       "FDO33     1\n",
       "DRF48     1\n",
       "FDC23     1\n",
       "Name: count, Length: 1559, dtype: int64"
      ]
     },
     "execution_count": 10,
     "metadata": {},
     "output_type": "execute_result"
    }
   ],
   "source": [
    "df=pd.read_csv(\"Train.csv\")\n",
    "df.isnull().sum()\n",
    "df['Item_Weight'].mean()\n",
    "df['Item_Weight']=df['Item_Weight'].fillna(df['Item_Weight'].mean())\n",
    "# df['Item_Weight'].fillna(df['Item_Weight'].mean(), inplace=True)\n",
    "df['Outlet_Size'].mode()\n",
    "mode_of_Outlet_size = df.pivot_table(values='Outlet_Size', columns='Outlet_Type', aggfunc=(lambda x: x.mode()[0]))\n",
    "miss_values = df['Outlet_Size'].isnull()\n",
    "df.loc[miss_values, 'Outlet_Size'] = df.loc[miss_values,'Outlet_Type'].apply(lambda x: mode_of_Outlet_size[x])\n",
    "df.replace({'Item_Fat_Content': {'low fat':'Low Fat','LF':'Low Fat', 'reg':'Regular'}}, inplace=True)\n",
    "df.describe()\n",
    "label_encoder = LabelEncoder()\n",
    "df[\"Item_Identifier\"].value_counts()"
   ]
  },
  {
   "cell_type": "code",
   "execution_count": 11,
   "id": "cd9f8f83-e86e-47a6-bb2f-9fb69a486de3",
   "metadata": {},
   "outputs": [],
   "source": [
    "df['Item_Identifier'] = label_encoder.fit_transform(df['Item_Identifier'])\n",
    "df['Item_Fat_Content'] = label_encoder.fit_transform(df['Item_Fat_Content'])\n",
    "df['Item_Type'] = label_encoder.fit_transform(df['Item_Type'])\n",
    "df['Outlet_Identifier'] = label_encoder.fit_transform(df['Outlet_Identifier'])\n",
    "df['Outlet_Size'] = label_encoder.fit_transform(df['Outlet_Size'])\n",
    "df['Outlet_Location_Type'] = label_encoder.fit_transform(df['Outlet_Location_Type'])\n",
    "df['Outlet_Type'] = label_encoder.fit_transform(df['Outlet_Type'])"
   ]
  },
  {
   "cell_type": "code",
   "execution_count": 12,
   "id": "b3a9a1ea-45ad-4884-bdac-e6570a4531c0",
   "metadata": {},
   "outputs": [],
   "source": [
    "x_train=df.drop([\"Item_Outlet_Sales\"],axis=1).values\n",
    "y_train=df[\"Item_Outlet_Sales\"].values"
   ]
  },
  {
   "cell_type": "code",
   "execution_count": 13,
   "id": "59f8727d-c3a4-401d-b73c-209fde5adac8",
   "metadata": {},
   "outputs": [],
   "source": [
    "x_norm=StandardScaler().fit_transform(x_train)\n",
    "x_norm,x_test,y_train,y_test=train_test_split(x_train,y_train,test_size=0.2,random_state=41)"
   ]
  },
  {
   "cell_type": "code",
   "execution_count": 14,
   "id": "c9e22ee6-58d3-4592-895b-6c06b5367aaa",
   "metadata": {},
   "outputs": [
    {
     "name": "stdout",
     "output_type": "stream",
     "text": [
      "XGB\n",
      "R squared Error :  51.938083868384744\n",
      "1382.2312 => 1328.271\n",
      "212.90952 => 1018.674\n",
      "431.0232 => 334.2316\n",
      "4685.458 => 2348.9424\n",
      "2978.6108 => 8323.8316\n",
      "3089.5718 => 4165.2448\n",
      "1323.573 => 2285.0256\n",
      "173.6192 => 1049.9666\n",
      "3160.1162 => 2659.871\n",
      "2602.531 => 2431.5016\n",
      "2118.2039 => 2311.6576\n",
      "1673.4115 => 2896.23\n",
      "1111.0394 => 639.168\n",
      "677.8446 => 1301.639\n",
      "2383.1794 => 515.3292\n",
      "1614.8744 => 535.969\n",
      "4681.79 => 3038.0454\n",
      "840.0473 => 1869.5664\n",
      "2474.5186 => 2591.2936\n",
      "2432.9438 => 3858.9768\n",
      "random forest\n",
      "R squared Error :  55.60529411348871\n",
      "1334.975606 => 1328.271\n",
      "424.20115400000014 => 1018.674\n",
      "591.3036380000003 => 334.2316\n",
      "3827.9704940000015 => 2348.9424\n",
      "2946.8174839999992 => 8323.8316\n",
      "3061.0421319999996 => 4165.2448\n",
      "1256.005068000001 => 2285.0256\n",
      "734.2775299999997 => 1049.9666\n",
      "3046.1015800000005 => 2659.871\n",
      "3007.4385739999984 => 2431.5016\n",
      "2128.2962800000005 => 2311.6576\n",
      "1919.388214 => 2896.23\n",
      "779.3588480000004 => 639.168\n",
      "637.9296120000001 => 1301.639\n",
      "3512.6209820000013 => 515.3292\n",
      "1752.2524399999988 => 535.969\n",
      "4209.620370000002 => 3038.0454\n",
      "1079.1219820000006 => 1869.5664\n",
      "3241.553827999999 => 2591.2936\n",
      "2104.074476 => 3858.9768\n"
     ]
    }
   ],
   "source": [
    "#XGB\n",
    "model_xgb=XGBRegressor()\n",
    "model_xgb.fit(x_norm,y_train)\n",
    "y_pred=model_xgb.predict(x_test)\n",
    "error_score=r2_score(y_test,y_pred)\n",
    "print(\"XGB\")\n",
    "print(\"R squared Error : \", error_score*100)\n",
    "for i in range(20):\n",
    "    print(y_pred[i],\"=>\",y_test[i])\n",
    "\n",
    "\n",
    "#random forest\n",
    "randomF=RandomForestRegressor()\n",
    "randomF.fit(x_norm,y_train)\n",
    "y_pred=randomF.predict(x_test)\n",
    "error_score=r2_score(y_test,y_pred)\n",
    "print(\"random forest\")\n",
    "print(\"R squared Error : \", error_score*100)\n",
    "for i in range(20):\n",
    "    print(y_pred[i],\"=>\",y_test[i])"
   ]
  }
 ],
 "metadata": {
  "kernelspec": {
   "display_name": "Python 3 (ipykernel)",
   "language": "python",
   "name": "python3"
  },
  "language_info": {
   "codemirror_mode": {
    "name": "ipython",
    "version": 3
   },
   "file_extension": ".py",
   "mimetype": "text/x-python",
   "name": "python",
   "nbconvert_exporter": "python",
   "pygments_lexer": "ipython3",
   "version": "3.12.4"
  }
 },
 "nbformat": 4,
 "nbformat_minor": 5
}
